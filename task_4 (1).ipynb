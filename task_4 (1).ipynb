{
  "nbformat": 4,
  "nbformat_minor": 0,
  "metadata": {
    "colab": {
      "provenance": []
    },
    "kernelspec": {
      "name": "python3",
      "display_name": "Python 3"
    },
    "language_info": {
      "name": "python"
    }
  },
  "cells": [
    {
      "cell_type": "code",
      "execution_count": 8,
      "metadata": {
        "id": "hTWret45vf6S"
      },
      "outputs": [],
      "source": [
        "import pandas as pd\n",
        "file_path = '/content/pms.xlsx'\n",
        "\n",
        "xl = pd.ExcelFile(file_path)\n",
        "df = xl.parse(\"Paycode Mapping summary\")\n",
        "unique_types = df['Type'].unique()"
      ]
    },
    {
      "cell_type": "code",
      "source": [
        "for type_value in unique_types:\n",
        "\n",
        "    filtered_df = df[df['Type'] == type_value]\n",
        "\n",
        "    for gl_code_value in filtered_df['GL Code'].unique():\n",
        "\n",
        "        gl_filtered_df = filtered_df[filtered_df['GL Code'] == gl_code_value]\n",
        "\n",
        "        sum_amount = gl_filtered_df['Amount'].sum()\n",
        "\n",
        "        df.loc[(df['Type'] == type_value) & (df['GL Code'] == gl_code_value), 'Sum_of_Amount'] = sum_amount\n",
        "\n",
        "with pd.ExcelWriter('pms.xlsx') as writer:\n",
        "    df.to_excel(writer, sheet_name='Paycode Mapping summary', index=False)\n"
      ],
      "metadata": {
        "id": "hotjPAQHzzSZ"
      },
      "execution_count": 10,
      "outputs": []
    }
  ]
}