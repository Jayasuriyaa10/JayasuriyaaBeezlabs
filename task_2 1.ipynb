{
  "nbformat": 4,
  "nbformat_minor": 0,
  "metadata": {
    "colab": {
      "provenance": []
    },
    "kernelspec": {
      "name": "python3",
      "display_name": "Python 3"
    },
    "language_info": {
      "name": "python"
    }
  },
  "cells": [
    {
      "cell_type": "code",
      "execution_count": 4,
      "metadata": {
        "colab": {
          "base_uri": "https://localhost:8080/"
        },
        "id": "P6Mhcm9ycp0F",
        "outputId": "bea42c63-d737-4e50-f132-91194e75cd27"
      },
      "outputs": [
        {
          "output_type": "stream",
          "name": "stdout",
          "text": [
            "Data read successfully\n",
            "Data written successfully\n"
          ]
        }
      ],
      "source": [
        "import pandas as pd\n",
        "\n",
        "\n",
        "source_excel_file = '/content/FI_Data_4100_5280 (1).XLSX'\n",
        "df = pd.read_excel(source_excel_file, sheet_name='Sheet1')\n",
        "print('Data read successfully')\n",
        "\n",
        "\n",
        "destination_excel_file = '/content/Accrual_Inventory_Template (1).xlsx'\n",
        "with pd.ExcelFile(destination_excel_file) as xls:\n",
        "    summary_df = pd.read_excel(xls, sheet_name='FI Data')\n",
        "\n",
        "\n",
        "summary_df = df.copy()\n",
        "\n",
        "\n",
        "with pd.ExcelWriter(destination_excel_file, engine='openpyxl', mode='a',if_sheet_exists='replace') as writer:\n",
        "    summary_df.to_excel(writer, sheet_name='FI Data', index=False)\n",
        "print('Data written successfully')"
      ]
    },
    {
      "cell_type": "code",
      "source": [
        "import pandas as pd\n",
        "\n",
        "\n",
        "source_excel_file = '/content/PO_Data_4100_5280 (1).XLSX'\n",
        "df = pd.read_excel(source_excel_file, sheet_name='Sheet1')\n",
        "print('Data read successfully')\n",
        "\n",
        "\n",
        "destination_excel_file = '/content/Accrual_Inventory_Template (1).xlsx'\n",
        "with pd.ExcelFile(destination_excel_file) as xls:\n",
        "    summary_df = pd.read_excel(xls, sheet_name='PO Data')\n",
        "\n",
        "\n",
        "summary_df = df.copy()\n",
        "\n",
        "\n",
        "with pd.ExcelWriter(destination_excel_file, engine='openpyxl', mode='a',if_sheet_exists='replace') as writer:\n",
        "    summary_df.to_excel(writer, sheet_name='PO Data', index=False)\n",
        "print('Data written successfully')"
      ],
      "metadata": {
        "colab": {
          "base_uri": "https://localhost:8080/"
        },
        "id": "uQIfRHiqdK7L",
        "outputId": "00ff8c21-c044-4bf6-b22c-9d320e4cc384"
      },
      "execution_count": 3,
      "outputs": [
        {
          "output_type": "stream",
          "name": "stdout",
          "text": [
            "Data read successfully\n",
            "Data written successfully\n"
          ]
        }
      ]
    }
  ]
}