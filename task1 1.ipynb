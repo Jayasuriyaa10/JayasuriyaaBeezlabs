{
  "nbformat": 4,
  "nbformat_minor": 0,
  "metadata": {
    "colab": {
      "provenance": [],
      "toc_visible": true
    },
    "kernelspec": {
      "name": "python3",
      "display_name": "Python 3"
    },
    "language_info": {
      "name": "python"
    }
  },
  "cells": [
    {
      "cell_type": "code",
      "execution_count": 1,
      "metadata": {
        "colab": {
          "base_uri": "https://localhost:8080/"
        },
        "id": "FqAj4MWO715Y",
        "outputId": "39c9febf-f68b-4a6f-d6fa-6e8faa75e1e1"
      },
      "outputs": [
        {
          "output_type": "stream",
          "name": "stdout",
          "text": [
            "Requirement already satisfied: pandas in /usr/local/lib/python3.10/dist-packages (1.5.3)\n",
            "Requirement already satisfied: python-dateutil>=2.8.1 in /usr/local/lib/python3.10/dist-packages (from pandas) (2.8.2)\n",
            "Requirement already satisfied: pytz>=2020.1 in /usr/local/lib/python3.10/dist-packages (from pandas) (2023.4)\n",
            "Requirement already satisfied: numpy>=1.21.0 in /usr/local/lib/python3.10/dist-packages (from pandas) (1.25.2)\n",
            "Requirement already satisfied: six>=1.5 in /usr/local/lib/python3.10/dist-packages (from python-dateutil>=2.8.1->pandas) (1.16.0)\n"
          ]
        }
      ],
      "source": [
        "pip install pandas\n"
      ]
    },
    {
      "cell_type": "code",
      "source": [
        "import pandas as pd\n",
        "import warnings"
      ],
      "metadata": {
        "id": "vevyMi4l7-wY"
      },
      "execution_count": 2,
      "outputs": []
    },
    {
      "cell_type": "code",
      "source": [
        "warnings.filterwarnings(\"ignore\")"
      ],
      "metadata": {
        "id": "LKkLwvmM8CAi"
      },
      "execution_count": 3,
      "outputs": []
    },
    {
      "cell_type": "code",
      "source": [
        "excel_file = '/content/GRIR_Template_New 1.xlsx'"
      ],
      "metadata": {
        "id": "Ecl2q2u18Fle"
      },
      "execution_count": 4,
      "outputs": []
    },
    {
      "cell_type": "code",
      "source": [
        "df = pd.read_excel(excel_file,sheet_name='Trans FBL3N')\n",
        "print('read')"
      ],
      "metadata": {
        "colab": {
          "base_uri": "https://localhost:8080/"
        },
        "id": "HF4p29_m8eFN",
        "outputId": "85eb5a6e-6ddc-41c0-f930-367af56e28bf"
      },
      "execution_count": 5,
      "outputs": [
        {
          "output_type": "stream",
          "name": "stdout",
          "text": [
            "read\n"
          ]
        }
      ]
    },
    {
      "cell_type": "code",
      "source": [
        "column_to_copy = df['G/L Account']\n",
        "print('copied')\n"
      ],
      "metadata": {
        "colab": {
          "base_uri": "https://localhost:8080/"
        },
        "id": "vIQwMhaR9WpJ",
        "outputId": "4a5f70b8-41df-4484-b3bc-cbc4bba64187"
      },
      "execution_count": 6,
      "outputs": [
        {
          "output_type": "stream",
          "name": "stdout",
          "text": [
            "copied\n"
          ]
        }
      ]
    },
    {
      "cell_type": "code",
      "source": [
        "with pd.ExcelFile(\"/content/GRIR_Template_New 1.xlsx\") as xls:\n",
        "    summary_df = pd.read_excel(xls, sheet_name='Summary')"
      ],
      "metadata": {
        "id": "RcrVFbwh9Z_l"
      },
      "execution_count": 7,
      "outputs": []
    },
    {
      "cell_type": "code",
      "source": [
        "summary_df['GRIR Account  Affected'] = column_to_copy\n"
      ],
      "metadata": {
        "id": "8sF1SQWT9i34"
      },
      "execution_count": 8,
      "outputs": []
    },
    {
      "cell_type": "code",
      "source": [
        "with pd.ExcelWriter(excel_file, mode='a', if_sheet_exists='replace') as writer:\n",
        "    summary_df.to_excel(writer, sheet_name='Summary', index=False)"
      ],
      "metadata": {
        "id": "pRIr4YYv9mBv"
      },
      "execution_count": 9,
      "outputs": []
    },
    {
      "cell_type": "code",
      "source": [
        "print('Done')"
      ],
      "metadata": {
        "id": "b3vCw23A-S00",
        "outputId": "da98c36c-f339-46e8-9d1a-656829045e95",
        "colab": {
          "base_uri": "https://localhost:8080/"
        }
      },
      "execution_count": 10,
      "outputs": [
        {
          "output_type": "stream",
          "name": "stdout",
          "text": [
            "Done\n"
          ]
        }
      ]
    },
    {
      "cell_type": "code",
      "source": [
        "excel_file = '/content/GRIR_Template_New 1.xlsx'\n",
        "df = pd.read_excel(excel_file,sheet_name='Trans FBL3N')\n",
        "print('read')\n",
        "\n",
        "column_to_copy = df['Purchasing Document']\n",
        "print('copied')\n",
        "\n",
        "\n",
        "with pd.ExcelFile(\"/content/GRIR_Template_New 1.xlsx\") as xls:\n",
        "    summary_df = pd.read_excel(xls, sheet_name='Summary')\n",
        "\n",
        "summary_df['Purchase Orders'] = column_to_copy\n",
        "with pd.ExcelWriter(excel_file, mode='a', if_sheet_exists='replace') as writer:\n",
        "    summary_df.to_excel(writer, sheet_name='Summary', index=False)"
      ],
      "metadata": {
        "colab": {
          "base_uri": "https://localhost:8080/"
        },
        "id": "P38TyIkSfYNn",
        "outputId": "039a9cc4-8e2b-43bb-9430-5f4e48cf7488"
      },
      "execution_count": 12,
      "outputs": [
        {
          "output_type": "stream",
          "name": "stdout",
          "text": [
            "read\n",
            "copied\n"
          ]
        }
      ]
    },
    {
      "cell_type": "code",
      "source": [
        "excel_file = '/content/GRIR_Template_New 1.xlsx'\n",
        "df = pd.read_excel(excel_file,sheet_name='Trans FBL3N')\n",
        "print('read')\n",
        "\n",
        "column_to_copy = df['Item']\n",
        "print('copied')\n",
        "\n",
        "\n",
        "with pd.ExcelFile(\"/content/GRIR_Template_New 1.xlsx\") as xls:\n",
        "    summary_df = pd.read_excel(xls, sheet_name='Summary')\n",
        "\n",
        "summary_df['Line'] = column_to_copy\n",
        "with pd.ExcelWriter(excel_file, mode='a', if_sheet_exists='replace') as writer:\n",
        "    summary_df.to_excel(writer, sheet_name='Summary', index=False)"
      ],
      "metadata": {
        "colab": {
          "base_uri": "https://localhost:8080/"
        },
        "id": "IKY7G7T5f7ys",
        "outputId": "893faaa2-56f3-4285-d621-e3de36feb632"
      },
      "execution_count": 13,
      "outputs": [
        {
          "output_type": "stream",
          "name": "stdout",
          "text": [
            "read\n",
            "copied\n"
          ]
        }
      ]
    },
    {
      "cell_type": "code",
      "source": [
        "excel_file = '/content/GRIR_Template_New 1.xlsx'\n",
        "df = pd.read_excel(excel_file,sheet_name='Trans FBL3N')\n",
        "print('read')\n",
        "\n",
        "column_to_copy = df['Amount in doc. curr.']\n",
        "print('copied')\n",
        "\n",
        "\n",
        "with pd.ExcelFile(\"/content/GRIR_Template_New 1.xlsx\") as xls:\n",
        "    summary_df = pd.read_excel(xls, sheet_name='Summary')\n",
        "\n",
        "summary_df['Open Balance'] = column_to_copy\n",
        "with pd.ExcelWriter(excel_file, mode='a', if_sheet_exists='replace') as writer:\n",
        "    summary_df.to_excel(writer, sheet_name='Summary', index=False)"
      ],
      "metadata": {
        "colab": {
          "base_uri": "https://localhost:8080/"
        },
        "id": "7dN1iSbOgdId",
        "outputId": "28839b8f-fd55-482e-ecf5-0b3e36239023"
      },
      "execution_count": 14,
      "outputs": [
        {
          "output_type": "stream",
          "name": "stdout",
          "text": [
            "read\n",
            "copied\n"
          ]
        }
      ]
    },
    {
      "cell_type": "code",
      "source": [
        "excel_file = '/content/GRIR_Template_New 1.xlsx'\n",
        "df = pd.read_excel(excel_file,sheet_name='Trans FBL3N')\n",
        "print('read')\n",
        "\n",
        "column_to_copy = df['Document currency']\n",
        "print('copied')\n",
        "\n",
        "\n",
        "with pd.ExcelFile(\"/content/GRIR_Template_New 1.xlsx\") as xls:\n",
        "    summary_df = pd.read_excel(xls, sheet_name='Summary')\n",
        "\n",
        "summary_df['Currency'] = column_to_copy\n",
        "with pd.ExcelWriter(excel_file, mode='a', if_sheet_exists='replace') as writer:\n",
        "    summary_df.to_excel(writer, sheet_name='Summary', index=False)"
      ],
      "metadata": {
        "colab": {
          "base_uri": "https://localhost:8080/"
        },
        "id": "igJdMoBmgvaU",
        "outputId": "18e7d84a-49fa-439a-f7db-98c26bc0bf42"
      },
      "execution_count": 15,
      "outputs": [
        {
          "output_type": "stream",
          "name": "stdout",
          "text": [
            "read\n",
            "copied\n"
          ]
        }
      ]
    },
    {
      "cell_type": "code",
      "source": [
        "\n",
        "excel_file = '/content/GRIR_Template_New 1.xlsx'\n",
        "df = pd.read_excel(excel_file,sheet_name='Trans FBL3N')\n",
        "print('read')\n",
        "\n",
        "column_to_copy = df['Amount in local currency']\n",
        "print('copied')\n",
        "\n",
        "\n",
        "with pd.ExcelFile(\"/content/GRIR_Template_New 1.xlsx\") as xls:\n",
        "    summary_df = pd.read_excel(xls, sheet_name='Summary')\n",
        "\n",
        "summary_df['Open Balance in local'] = column_to_copy\n",
        "with pd.ExcelWriter(excel_file, mode='a', if_sheet_exists='replace') as writer:\n",
        "    summary_df.to_excel(writer, sheet_name='Summary', index=False)"
      ],
      "metadata": {
        "colab": {
          "base_uri": "https://localhost:8080/"
        },
        "id": "8d3T7fsug8te",
        "outputId": "42b01d82-cd2e-4202-f810-74324d01490f"
      },
      "execution_count": 16,
      "outputs": [
        {
          "output_type": "stream",
          "name": "stdout",
          "text": [
            "read\n",
            "copied\n"
          ]
        }
      ]
    },
    {
      "cell_type": "code",
      "source": [
        "excel_file = '/content/GRIR_Template_New 1.xlsx'\n",
        "df = pd.read_excel(excel_file,sheet_name='Trans FBL3N')\n",
        "print('read')\n",
        "\n",
        "column_to_copy = df['Local Currency']\n",
        "print('copied')\n",
        "\n",
        "\n",
        "with pd.ExcelFile(\"/content/GRIR_Template_New 1.xlsx\") as xls:\n",
        "    summary_df = pd.read_excel(xls, sheet_name='Summary')\n",
        "\n",
        "summary_df['Local Currency'] = column_to_copy\n",
        "with pd.ExcelWriter(excel_file, mode='a', if_sheet_exists='replace') as writer:\n",
        "    summary_df.to_excel(writer, sheet_name='Summary', index=False)"
      ],
      "metadata": {
        "colab": {
          "base_uri": "https://localhost:8080/"
        },
        "id": "CVM8ZjMxhXQf",
        "outputId": "de5060b4-db9c-4243-a70a-62e314e80ae5"
      },
      "execution_count": 17,
      "outputs": [
        {
          "output_type": "stream",
          "name": "stdout",
          "text": [
            "read\n",
            "copied\n"
          ]
        }
      ]
    },
    {
      "cell_type": "code",
      "source": [
        "\n",
        "excel_file = '/content/GRIR_Template_New 1.xlsx'\n",
        "df = pd.read_excel(excel_file,sheet_name='Trans FBL3N')\n",
        "print('read')\n",
        "\n",
        "column_to_copy = df['Posting Date']\n",
        "print('copied')\n",
        "\n",
        "\n",
        "with pd.ExcelFile(\"/content/GRIR_Template_New 1.xlsx\") as xls:\n",
        "    summary_df = pd.read_excel(xls, sheet_name='Summary')\n",
        "\n",
        "summary_df['Last Activity Date'] = column_to_copy\n",
        "with pd.ExcelWriter(excel_file, mode='a', if_sheet_exists='replace') as writer:\n",
        "    summary_df.to_excel(writer, sheet_name='Summary', index=False)"
      ],
      "metadata": {
        "colab": {
          "base_uri": "https://localhost:8080/"
        },
        "id": "uOlyq2fIhmd8",
        "outputId": "113d1a39-18f9-413a-9807-f2c6578993a6"
      },
      "execution_count": 18,
      "outputs": [
        {
          "output_type": "stream",
          "name": "stdout",
          "text": [
            "read\n",
            "copied\n"
          ]
        }
      ]
    }
  ]
}