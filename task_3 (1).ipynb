{
  "nbformat": 4,
  "nbformat_minor": 0,
  "metadata": {
    "colab": {
      "provenance": []
    },
    "kernelspec": {
      "name": "python3",
      "display_name": "Python 3"
    },
    "language_info": {
      "name": "python"
    }
  },
  "cells": [
    {
      "cell_type": "code",
      "source": [
        "import pandas as pd\n",
        "\n",
        "file_path = '/content/Worksheet in C  Users JK Downloads GRIR Filtering.xlsx'\n",
        "df = pd.read_excel(file_path, header=4)\n",
        "\n",
        "filtered_data = {}\n",
        "for company_code in df['Company Code'].unique():\n",
        "    for currency in df['Reimbursement Currency'].unique():\n",
        "        filtered_df = df[(df['Company Code'] == company_code) & (df['Reimbursement Currency'] == currency)]\n",
        "        if not filtered_df.empty:\n",
        "            filtered_data[(company_code, currency)] = filtered_df\n",
        "\n",
        "\n",
        "with pd.ExcelWriter('filtered_data.xlsx') as writer:\n",
        "    for key, df_filtered in filtered_data.items():\n",
        "        company_code, currency = key\n",
        "        sheet_name = f'{company_code}_{currency}'\n",
        "        df_filtered.to_excel(writer, sheet_name=sheet_name, index=False)"
      ],
      "metadata": {
        "id": "gHJMzKAMEd3b"
      },
      "execution_count": 6,
      "outputs": []
    }
  ]
}